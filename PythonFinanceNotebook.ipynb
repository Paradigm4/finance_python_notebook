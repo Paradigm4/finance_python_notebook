{
 "cells": [
  {
   "cell_type": "markdown",
   "metadata": {},
   "source": [
    "SciDB and Python\n",
    "====\n",
    "\n",
    "> **Jonathan Rivers, Paradigm4, https://github.com/jrivers96**\n",
    "\n",
    "> **Kriti Sen Sharma, Paradigm4, https://github.com/ksens**\n",
    "\n",
    "> **Bryan Lewis, Paradigm4, https://github.com/bwlewis**\n",
    "\n",
    "www.paradigm4.com\n",
    "\n",
    "$$\\,$$\n",
    "\n",
    "$$\\,$$\n",
    "\n"
   ]
  },
  {
   "cell_type": "code",
   "execution_count": 10,
   "metadata": {
    "collapsed": false,
    "scrolled": true
   },
   "outputs": [
    {
     "data": {
      "image/png": "[encoded data removed]",
      "text/plain": [
       "<IPython.core.display.Image at 0x2a96290>"
      ]
     },
     "execution_count": 10,
     "metadata": {},
     "output_type": "execute_result"
    }
   ],
   "source": [
    "from IPython.display import Image\n",
    "Image(filename='scidb.png')"
   ]
  },
  {
   "cell_type": "markdown",
   "metadata": {},
   "source": [
    "\n",
    "$$\\,$$\n",
    "\n",
    "Introduction to SciDB-py package, and SciDB as a Tick database\n",
    "====\n",
    "\n",
    "* https://github.com/Paradigm4/TAQ/blob/master/TAQ_ipynb.ipynb\n",
    "\n",
    "* https://github.com/paradigm4/SciDB-py\n",
    "* http://www.paradigm4.com/forum\n",
    "* http://www.paradigm4.com\n",
    "\n",
    "  \n",
    "$$\\,$$\n"
   ]
  },
  {
   "cell_type": "markdown",
   "metadata": {},
   "source": [
    "\n",
    "Loading the scidbpy package and connecting to SciDB\n",
    "====\n",
    "\n",
    "This step requires a connection to a SciDB cluster. This notebook assumes SciDB is available at http://localhost:8080. Replace this address with one that points to a SciDB connection.\n",
    "\n",
    "Ready-to-roll SciDB AMIs for Amazon EC2 are available. Information is available on the SciDB forum at http://www.paradigm4.com."
   ]
  },
  {
   "cell_type": "code",
   "execution_count": 51,
   "metadata": {
    "collapsed": false
   },
   "outputs": [],
   "source": [
    "import numpy as np\n",
    "from scidbpy import interface, SciDBQueryError, SciDBArray\n",
    "sdb = interface.SciDBShimInterface('http://localhost:8080')"
   ]
  },
  {
   "cell_type": "markdown",
   "metadata": {},
   "source": [
    "Creating SciDB array objects...\n",
    "====\n",
    "...from a numpy array\n",
    "----"
   ]
  },
  {
   "cell_type": "code",
   "execution_count": 34,
   "metadata": {
    "collapsed": false
   },
   "outputs": [],
   "source": [
    "X = np.random.random((5, 4))"
   ]
  },
  {
   "cell_type": "code",
   "execution_count": 36,
   "metadata": {
    "collapsed": false
   },
   "outputs": [],
   "source": [
    "X_sci = sdb.from_array(X)"
   ]
  },
  {
   "cell_type": "code",
   "execution_count": 37,
   "metadata": {
    "collapsed": false
   },
   "outputs": [
    {
     "data": {
      "text/plain": [
       "(5, 4)"
      ]
     },
     "execution_count": 37,
     "metadata": {},
     "output_type": "execute_result"
    }
   ],
   "source": [
    "# SciDBArray objects provide a mix of familiar numpy things and some SciDB-specific things:\n",
    "X_sci.shape      # The usual shape"
   ]
  },
  {
   "cell_type": "code",
   "execution_count": 38,
   "metadata": {
    "collapsed": false
   },
   "outputs": [
    {
     "data": {
      "text/plain": [
       "'py1101086155612_00002'"
      ]
     },
     "execution_count": 38,
     "metadata": {},
     "output_type": "execute_result"
    }
   ],
   "source": [
    "X_sci.name       # SciDB array name"
   ]
  },
  {
   "cell_type": "markdown",
   "metadata": {},
   "source": [
    "...using an array generating function\n",
    "----"
   ]
  },
  {
   "cell_type": "code",
   "execution_count": 40,
   "metadata": {
    "collapsed": false
   },
   "outputs": [],
   "source": [
    "# Create a 10x10 array of double-precision zeros:\n",
    "A = sdb.zeros( (10,10,) )\n",
    "\n",
    "# Create a 10x10 array of 64-bit signed integer ones:\n",
    "B = sdb.ones( (10,10), dtype='int64' )\n",
    "\n",
    "# Create a 10x10 array of numbers between -1 and 2 (inclusive) sampled from a uniform random distribution.\n",
    "C = sdb.random( (10,10), lower=-1, upper=2)\n",
    "\n",
    "# Create a vector of 5 equally spaced numbers between 1 and 10, including the endpoints:\n",
    "D = sdb.linspace(1,10,num=5,endpoint=True)\n",
    "\n",
    "# Create a 10x10 sparse, double-precision-valued identity matrix:\n",
    "E = sdb.identity(10, dtype='double', sparse=True)"
   ]
  },
  {
   "cell_type": "markdown",
   "metadata": {},
   "source": [
    "...from a SciDB query\n",
    "----\n",
    "\n",
    "The scidbpy package query method simplifies writing low-level SciDB AFL queries involving SciDBArray objects."
   ]
  },
  {
   "cell_type": "code",
   "execution_count": 28,
   "metadata": {
    "collapsed": false
   },
   "outputs": [
    {
     "data": {
      "text/plain": [
       "28"
      ]
     },
     "execution_count": 28,
     "metadata": {},
     "output_type": "execute_result"
    }
   ],
   "source": [
    "tridiag = sdb.new_array((10, 10))\n",
    "sdb.query('store(build({A}, \\\n",
    "                 iif({A.d0}={A.d1}, 2, -1), \\\n",
    "                 {A.d0} <= {A.d1}+1 and {A.d0} >= {A.d1}-1), \\\n",
    "           {A})', A=tridiag)\n",
    "tridiag.nonempty()"
   ]
  },
  {
   "cell_type": "markdown",
   "metadata": {},
   "source": [
    "...from an existing SciDB array\n",
    "----\n",
    "\n",
    "This example array holds one day of ARCA consolidated quote data. It has about 185 million elements."
   ]
  },
  {
   "cell_type": "code",
   "execution_count": 55,
   "metadata": {
    "collapsed": false
   },
   "outputs": [
    {
     "data": {
      "text/plain": [
       "185857392"
      ]
     },
     "execution_count": 55,
     "metadata": {},
     "output_type": "execute_result"
    }
   ],
   "source": [
    "quotes = sdb.wrap_array(scidbname=\"arca_seq\")\n",
    "quotes.count()[0]"
   ]
  },
  {
   "cell_type": "markdown",
   "metadata": {},
   "source": [
    "The scope of SciDB arrays connected to SciDBArray objects\n",
    "----\n",
    "The `persistent` argument of the `new_array` method determines if a SciDB array should be removed when its corresponding Python reference falls out of scope."
   ]
  },
  {
   "cell_type": "code",
   "execution_count": 59,
   "metadata": {
    "collapsed": false
   },
   "outputs": [
    {
     "name": "stdout",
     "output_type": "stream",
     "text": [
      "py1101086155612_00022\n"
     ]
    }
   ],
   "source": [
    "X = sdb.random((10,10), persistent=False)\n",
    "Y = X\n",
    "\n",
    "xname = X.name\n",
    "print(xname)"
   ]
  },
  {
   "cell_type": "code",
   "execution_count": 60,
   "metadata": {
    "collapsed": false
   },
   "outputs": [
    {
     "data": {
      "text/plain": [
       "True"
      ]
     },
     "execution_count": 60,
     "metadata": {},
     "output_type": "execute_result"
    }
   ],
   "source": [
    "# Now let's delete the variable X:\n",
    "del(X)\n",
    "\n",
    "# and check to see if its array is still in SciDB:\n",
    "sdb.list_arrays().has_key(xname)"
   ]
  },
  {
   "cell_type": "code",
   "execution_count": 61,
   "metadata": {
    "collapsed": false
   },
   "outputs": [
    {
     "data": {
      "text/plain": [
       "False"
      ]
     },
     "execution_count": 61,
     "metadata": {},
     "output_type": "execute_result"
    }
   ],
   "source": [
    "# OK, let's delete the other reference to the SciDB array:\n",
    "del(Y)\n",
    "\n",
    "# and check to see if its array is still in SciDB:\n",
    "sdb.list_arrays().has_key(xname)"
   ]
  },
  {
   "cell_type": "markdown",
   "metadata": {},
   "source": [
    "Materializing data to Python\n",
    "===="
   ]
  },
  {
   "cell_type": "code",
   "execution_count": 29,
   "metadata": {
    "collapsed": false
   },
   "outputs": [
    {
     "data": {
      "text/plain": [
       "array([[ 2., -1.,  0.,  0.,  0.,  0.,  0.,  0.,  0.,  0.],\n",
       "       [-1.,  2., -1.,  0.,  0.,  0.,  0.,  0.,  0.,  0.],\n",
       "       [ 0., -1.,  2., -1.,  0.,  0.,  0.,  0.,  0.,  0.],\n",
       "       [ 0.,  0., -1.,  2., -1.,  0.,  0.,  0.,  0.,  0.],\n",
       "       [ 0.,  0.,  0., -1.,  2., -1.,  0.,  0.,  0.,  0.],\n",
       "       [ 0.,  0.,  0.,  0., -1.,  2., -1.,  0.,  0.,  0.],\n",
       "       [ 0.,  0.,  0.,  0.,  0., -1.,  2., -1.,  0.,  0.],\n",
       "       [ 0.,  0.,  0.,  0.,  0.,  0., -1.,  2., -1.,  0.],\n",
       "       [ 0.,  0.,  0.,  0.,  0.,  0.,  0., -1.,  2., -1.],\n",
       "       [ 0.,  0.,  0.,  0.,  0.,  0.,  0.,  0., -1.,  2.]])"
      ]
     },
     "execution_count": 29,
     "metadata": {},
     "output_type": "execute_result"
    }
   ],
   "source": [
    "# Materialize SciDB array to Python as a numpy array:\n",
    "tridiag.toarray()"
   ]
  },
  {
   "cell_type": "code",
   "execution_count": 83,
   "metadata": {
    "collapsed": false
   },
   "outputs": [
    {
     "data": {
      "text/plain": [
       "<10x10 sparse matrix of type '<type 'numpy.float64'>'\n",
       "\twith 28 stored elements in Compressed Sparse Row format>"
      ]
     },
     "execution_count": 83,
     "metadata": {},
     "output_type": "execute_result"
    }
   ],
   "source": [
    "# Materialize SciDB array to Python as a sparse array:\n",
    "from scipy import sparse\n",
    "tridiag.tosparse('csr')"
   ]
  },
  {
   "cell_type": "markdown",
   "metadata": {},
   "source": [
    "Operations on `SciDBArray` objects\n",
    "====\n",
    "Subarrays\n",
    "----"
   ]
  },
  {
   "cell_type": "code",
   "execution_count": 23,
   "metadata": {
    "collapsed": false
   },
   "outputs": [
    {
     "data": {
      "text/plain": [
       "array([[ 0., -1.,  2., -1.,  0.,  0.,  0.,  0.,  0.,  0.],\n",
       "       [ 0.,  0., -1.,  2., -1.,  0.,  0.,  0.,  0.,  0.],\n",
       "       [ 0.,  0.,  0., -1.,  2., -1.,  0.,  0.,  0.,  0.]])"
      ]
     },
     "execution_count": 23,
     "metadata": {},
     "output_type": "execute_result"
    }
   ],
   "source": [
    "# Define a 3x10 subarray (returned as a new SciDBArray object)\n",
    "X = tridiag[2:5,:]\n",
    "X.toarray()"
   ]
  },
  {
   "cell_type": "code",
   "execution_count": 24,
   "metadata": {
    "collapsed": false
   },
   "outputs": [
    {
     "data": {
      "text/plain": [
       "array([[ 0.,  2.,  0.,  0.,  0.],\n",
       "       [ 0., -1., -1.,  0.,  0.],\n",
       "       [ 0.,  0.,  2.,  0.,  0.]])"
      ]
     },
     "execution_count": 24,
     "metadata": {},
     "output_type": "execute_result"
    }
   ],
   "source": [
    "X = tridiag[2:5,::2]\n",
    "X.toarray()"
   ]
  },
  {
   "cell_type": "markdown",
   "metadata": {},
   "source": [
    "Data aggregation\n",
    "----"
   ]
  },
  {
   "cell_type": "code",
   "execution_count": 30,
   "metadata": {
    "collapsed": false
   },
   "outputs": [
    {
     "data": {
      "text/plain": [
       "2.0"
      ]
     },
     "execution_count": 30,
     "metadata": {},
     "output_type": "execute_result"
    }
   ],
   "source": [
    "# Sum over all elements in 'tridiag'\n",
    "tridiag.sum()[0]"
   ]
  },
  {
   "cell_type": "code",
   "execution_count": 31,
   "metadata": {
    "collapsed": false
   },
   "outputs": [
    {
     "data": {
      "text/plain": [
       "array([ 4.5,  3. ,  3. ,  3. ,  3. ,  3. ,  3. ,  3. ,  3. ,  4.5])"
      ]
     },
     "execution_count": 31,
     "metadata": {},
     "output_type": "execute_result"
    }
   ],
   "source": [
    "# Compute the variance along dimension 1 (columns)\n",
    "tridiag.var(1).toarray()"
   ]
  },
  {
   "cell_type": "markdown",
   "metadata": {},
   "source": [
    "...also `min` `max` `std` `mean` `approxdc` and `count`."
   ]
  },
  {
   "cell_type": "markdown",
   "metadata": {},
   "source": [
    "Shape and layout functions\n",
    "----"
   ]
  },
  {
   "cell_type": "code",
   "execution_count": 94,
   "metadata": {
    "collapsed": false
   },
   "outputs": [
    {
     "name": "stdout",
     "output_type": "stream",
     "text": [
      "(20, 5)\n",
      "(5, 20)\n"
     ]
    }
   ],
   "source": [
    "tri_reshape = tridiag.reshape((20,5))\n",
    "print tri_reshape.shape\n",
    "print tri_reshape.transpose().shape"
   ]
  },
  {
   "cell_type": "markdown",
   "metadata": {},
   "source": [
    "Arithmetic\n",
    "----"
   ]
  },
  {
   "cell_type": "code",
   "execution_count": 25,
   "metadata": {
    "collapsed": false
   },
   "outputs": [
    {
     "data": {
      "text/plain": [
       "-4.4408920985006262e-16"
      ]
     },
     "execution_count": 25,
     "metadata": {},
     "output_type": "execute_result"
    }
   ],
   "source": [
    "X = sdb.from_array(np.random.random((10,10)))\n",
    "Y = sdb.from_array(np.random.random((10,10)))\n",
    "\n",
    "S = X + Y\n",
    "D = X - Y\n",
    "M = 2 * X\n",
    "(S + D - M).sum()[0]"
   ]
  },
  {
   "cell_type": "code",
   "execution_count": 26,
   "metadata": {
    "collapsed": false
   },
   "outputs": [
    {
     "data": {
      "text/plain": [
       "SciDBArray('not empty py1101266337305_00044<multiply:double> [i0=0:9,1000,0,i1=0:9,1000,0]')"
      ]
     },
     "execution_count": 26,
     "metadata": {},
     "output_type": "execute_result"
    }
   ],
   "source": [
    "sdb.dot(X,Y)"
   ]
  },
  {
   "cell_type": "code",
   "execution_count": 27,
   "metadata": {
    "collapsed": false
   },
   "outputs": [
    {
     "data": {
      "text/plain": [
       "array([ 1.88774937,  1.7899071 ,  2.02491303,  1.72463329,  2.58387152,\n",
       "        1.70449874,  1.0778353 ,  2.45668368,  1.43828023,  1.75958135])"
      ]
     },
     "execution_count": 27,
     "metadata": {},
     "output_type": "execute_result"
    }
   ],
   "source": [
    "sdb.dot(X.T, Y[:,1]).toarray()"
   ]
  },
  {
   "cell_type": "markdown",
   "metadata": {},
   "source": [
    "Broadcasting\n",
    "----\n",
    "We center a matrix by subtracting from each column its mean (also illustrating the aggregates along a coordinate axis):"
   ]
  },
  {
   "cell_type": "code",
   "execution_count": 30,
   "metadata": {
    "collapsed": false
   },
   "outputs": [
    {
     "data": {
      "text/plain": [
       "array([ -7.77156117e-17,  -7.21644966e-17,  -1.11022302e-17,\n",
       "        -3.88578059e-17,  -3.88578059e-17])"
      ]
     },
     "execution_count": 30,
     "metadata": {},
     "output_type": "execute_result"
    }
   ],
   "source": [
    "# Create a small test array with 5 columns:\n",
    "X = sdb.random((10,5))\n",
    "\n",
    "# Create a vector of column means directly using a SciDB aggregation function:\n",
    "xcolmean = X.mean(1)\n",
    "\n",
    "# Subtract the column means from the original matrix using broadcasting:\n",
    "XC = X - xcolmean\n",
    "\n",
    "# Check the mean of one of the columns of the centered matrix:\n",
    "XC.mean(1).toarray()"
   ]
  },
  {
   "cell_type": "markdown",
   "metadata": {},
   "source": [
    "$$\\,$$\n",
    "Putting things together for...\n",
    "====\n",
    "Covariance and correlation matrices\n",
    "----"
   ]
  },
  {
   "cell_type": "code",
   "execution_count": null,
   "metadata": {
    "collapsed": false
   },
   "outputs": [],
   "source": [
    "# Create a small test array with 5 columns:\n",
    "X = sdb.from_array(np.random.random((10,5)))\n",
    "\n",
    "# Create a second small test array with 10 columns:\n",
    "Y = sdb.from_array(np.random.random((10,10)))\n",
    "\n",
    "# Subtract the column means from X using broadcasting:\n",
    "xcolmean = X.mean(1)\n",
    "XC = X - xcolmean\n",
    "\n",
    "# Similarly subtract the column means from Y:\n",
    "ycolmean = Y.mean(1)\n",
    "YC = Y - ycolmean\n",
    "\n",
    "# Compute the covariance matrix between X and Y:\n",
    "COV = sdb.dot(XC.T, YC)/(X.shape[0] - 1)\n",
    "\n",
    "# Column vector with column standard deviations of X matrix:\n",
    "xsd = X.std(1).reshape((5,1))\n",
    "# Row vector with column standard deviations of Y matrix:\n",
    "ysd = Y.std(1).reshape((1,10))\n",
    "# Their outer product (outer is not yet overloaded in the package):\n",
    "outersd = sdb.dot(xsd,ysd)\n",
    "\n",
    "# Element-wise division of the matrices gives us the correlation between X and Y:\n",
    "COR = COV/outersd"
   ]
  },
  {
   "cell_type": "markdown",
   "metadata": {},
   "source": [
    "$$\\,$$\n",
    "$$\\,$$\n",
    "\n",
    "# SciDB as a Tick Database \n",
    "\n",
    "### Connect to the SciDB DBMS\n",
    "\n",
    "The below imports the required libraries and establishes connectivity to the SciDB DBMS. "
   ]
  },
  {
   "cell_type": "code",
   "execution_count": 1,
   "metadata": {
    "collapsed": false
   },
   "outputs": [],
   "source": [
    "import datetime\n",
    "import numpy as np\n",
    "from scidbpy import interface, SciDBQueryError, SciDBArray\n",
    "import matplotlib.pyplot as plt\n",
    "from scidbpy import connect\n",
    "import time\n",
    "\n",
    "#sdb = connect('http://localhost:5959')\n",
    "#afl = sdb.afl\n",
    " \n",
    "sdb = connect(\"http://10.0.20.185:8080\")\n",
    "afl = sdb.afl"
   ]
  },
  {
   "cell_type": "markdown",
   "metadata": {},
   "source": [
    "Computing best bid/offer and order books\n",
    "----\n",
    "https://github.com/Paradigm4/orderbook-example\n",
    "\n",
    "SciDB can be extended in C++. (We are also working on ways to extend internal SciDB functionality with Python and R.)\n",
    "\n",
    "arca is a time by symbol data matrix,\n",
    "ms is the name of the time dimension,\n",
    "order_records is a specially formatted string input attribute for orderbook.\n",
    "The orderbook function expects the input attribute to have the following special string form:\n",
    "\n",
    "order_type, ref_id, price, size, symbol, ask_bid_type|"
   ]
  },
  {
   "cell_type": "code",
   "execution_count": 3,
   "metadata": {
    "collapsed": false
   },
   "outputs": [
    {
     "name": "stdout",
     "output_type": "stream",
     "text": [
      "46.5135610104\n"
     ]
    }
   ],
   "source": [
    "sdb.query(\"load_library('nbbo')\")\n",
    "import time\n",
    "start_time = time.time()\n",
    "sdb.query(\"variable_window(arca, ms, 1, 0, nbbo(order_records))\")\n",
    "print(time.time() - start_time)"
   ]
  },
  {
   "cell_type": "code",
   "execution_count": 52,
   "metadata": {
    "collapsed": false
   },
   "outputs": [],
   "source": [
    "nbbo = sdb._execute_query(\"variable_window(  \\\n",
    "                        between(arca,'DEXO',34200000,'DEXO',57600000), \\\n",
    "                        ms,1,0,nbbo(order_records))\",response=True,fmt=\"lcsv+\").split(\"\\n\")[1:-1]"
   ]
  },
  {
   "cell_type": "code",
   "execution_count": 53,
   "metadata": {
    "collapsed": false
   },
   "outputs": [
    {
     "data": {
      "text/plain": [
       "[(34200057.0, 1.6399999999999999, 480.0, 1.97, 480.0),\n",
       " (34200641.0, 1.6399999999999999, 480.0, 1.97, 480.0),\n",
       " (34202223.0, 1.6399999999999999, 480.0, 1.97, 480.0),\n",
       " (34202411.0, 1.6399999999999999, 480.0, 1.8700000000000001, 1000.0)]"
      ]
     },
     "execution_count": 53,
     "metadata": {},
     "output_type": "execute_result"
    }
   ],
   "source": [
    "nbbo = [tuple(double(y) for y in x.replace(\"'\",\"\").split(\",\")[1:]) for x in nbbo]\n",
    "nbbo[0:4]"
   ]
  },
  {
   "cell_type": "markdown",
   "metadata": {},
   "source": [
    "The output is a 2-d array with the same dimensions as the input array and a single string attribute with the format\n",
    "\n",
    "bp1, bv1, bp2, bv2, bp3, bv3 |  ap1, av1, ap2, av2, ap3, av3\n",
    "where, bp1 means \"bid price 1\", \"bv1 means bid volume 1\", and ap1 and av1 are similarly defined for ask prices and volumes, and bp1 < bp2 < bp3 < ap1 < ap2 < ap3."
   ]
  },
  {
   "cell_type": "code",
   "execution_count": 67,
   "metadata": {
    "collapsed": false
   },
   "outputs": [
    {
     "data": {
      "image/png": "[encoded data removed]",
      "text/plain": [
       "<matplotlib.figure.Figure at 0x5d39150>"
      ]
     },
     "metadata": {},
     "output_type": "display_data"
    }
   ],
   "source": [
    "import matplotlib.pyplot as plt\n",
    "\n",
    "# Data to be represented\n",
    "markettime = [x[0]/60000 for x in nbbo]\n",
    "\n",
    "avolwtspread = [(x[3]-x[1])*x[2]/(x[2] + x[4]) for x in nbbo]\n",
    "bvolwtspread = [-(x[3]-x[1])*x[4]/(x[2] + x[4]) for x in nbbo]\n",
    "\n",
    "fig = plt.figure(figsize=(20,6),facecolor=\"white\")\n",
    "axes = plt.subplot(111, axisbelow=True)\n",
    "\n",
    "plt.bar(markettime, avolwtspread, width=3, facecolor='#9999ff', edgecolor='white')\n",
    "plt.bar(markettime, bvolwtspread, width=3, facecolor='#ff9999', edgecolor='white')\n",
    "\n",
    "axes.set_xticks([])\n",
    "\n",
    "axes.spines['top'].set_color('none')\n",
    "axes.spines['left'].set_color('none')\n",
    "axes.spines['right'].set_color('none')\n",
    "axes.spines['bottom'].set_color('none')\n",
    "axes.yaxis.set_ticks_position('left')\n",
    "plt.show()"
   ]
  },
  {
   "cell_type": "markdown",
   "metadata": {},
   "source": [
    "### Parallel loading in SciDB using the accelerated load tools. \n"
   ]
  },
  {
   "cell_type": "markdown",
   "metadata": {},
   "source": [
    "The SciDB Enterprise Edition includes the aio_input operator which allows the ingest of files from around the file system of a distributed cluster. You have the ability to pick a number of paths and the SciDB instance number. Each selected SciDB instance will load from the corresponding data path. This can provide the benefit of loading from multiple IO devices. "
   ]
  },
  {
   "cell_type": "code",
   "execution_count": null,
   "metadata": {
    "collapsed": true
   },
   "outputs": [],
   "source": [
    "sdb.query('\n",
    "insert(\n",
    "        redimension(\n",
    "                project(\n",
    "                        apply(                 \n",
    "                            cast(\n",
    "           \n",
    "aio_input('paths=/scidbData/importFifo1;/scidbData/importFifo2;'\n",
    "          ,'instances=3;21;','num_attributes=5','attribute_delimiter=,')\n",
    "\n",
    "                            ,<_security_id:string null,_price:string null,_volume:string null, error:string null>\n",
    "                            [source_instance_id=0:*,1,0,chunk_no=0:*,1,0,line_no=0:*,100000,0])\n",
    "                        ,security_id,int64(_security_id),price,int64(_price),volume,int64(_volume))\n",
    "                ,security_id,price,volume)\n",
    "        ,option_quote,false)\n",
    ",option_quote)\n",
    "')\n",
    "          \n",
    "          "
   ]
  },
  {
   "cell_type": "markdown",
   "metadata": {},
   "source": [
    "### Tick Data Operations\n",
    "\n",
    "Link Python objects with SciDB arrays"
   ]
  },
  {
   "cell_type": "code",
   "execution_count": 3,
   "metadata": {
    "collapsed": true
   },
   "outputs": [],
   "source": [
    "trades = sdb.wrap_array('trades')\n",
    "quotes = sdb.wrap_array('quotes')\n",
    "tkr = sdb.wrap_array('tkr')"
   ]
  },
  {
   "cell_type": "markdown",
   "metadata": {},
   "source": [
    "Materialize first 5 values into interpreter from SciDB"
   ]
  },
  {
   "cell_type": "code",
   "execution_count": 6,
   "metadata": {
    "collapsed": false
   },
   "outputs": [
    {
     "data": {
      "text/html": [
       "<div style=\"max-height:1000px;max-width:1500px;overflow:auto;\">\n",
       "<table border=\"1\" class=\"dataframe\">\n",
       "  <thead>\n",
       "    <tr style=\"text-align: right;\">\n",
       "      <th></th>\n",
       "      <th>symbol</th>\n",
       "    </tr>\n",
       "    <tr>\n",
       "      <th>symbol_index</th>\n",
       "      <th></th>\n",
       "    </tr>\n",
       "  </thead>\n",
       "  <tbody>\n",
       "    <tr>\n",
       "      <th>0</th>\n",
       "      <td>        A</td>\n",
       "    </tr>\n",
       "    <tr>\n",
       "      <th>1</th>\n",
       "      <td>       AA</td>\n",
       "    </tr>\n",
       "    <tr>\n",
       "      <th>2</th>\n",
       "      <td> AA    PR</td>\n",
       "    </tr>\n",
       "    <tr>\n",
       "      <th>3</th>\n",
       "      <td>     AADR</td>\n",
       "    </tr>\n",
       "    <tr>\n",
       "      <th>4</th>\n",
       "      <td>     AAIT</td>\n",
       "    </tr>\n",
       "  </tbody>\n",
       "</table>\n",
       "</div>"
      ],
      "text/plain": [
       "                symbol\n",
       "symbol_index          \n",
       "0                    A\n",
       "1                   AA\n",
       "2             AA    PR\n",
       "3                 AADR\n",
       "4                 AAIT"
      ]
     },
     "execution_count": 6,
     "metadata": {},
     "output_type": "execute_result"
    }
   ],
   "source": [
    "tkr.todataframe().head()"
   ]
  },
  {
   "cell_type": "markdown",
   "metadata": {},
   "source": [
    "### Looking up trades by symbol string\n",
    "Join with the auxiliary tkr array to look up data by ticker symbol name. Here are examples that count the number of trades and quotes for 'BAM'."
   ]
  },
  {
   "cell_type": "code",
   "execution_count": 7,
   "metadata": {
    "collapsed": false
   },
   "outputs": [
    {
     "name": "stdout",
     "output_type": "stream",
     "text": [
      "6337\n",
      "49667\n"
     ]
    }
   ],
   "source": [
    "symbol = \"BAM\"\n",
    "print(sdb.merge(trades,\n",
    "            tkfilter(\"symbol='%s'\" % symbol)\n",
    "          ).nonempty())\n",
    "print(sdb.merge(quotes,\n",
    "            tkr.filter(\"symbol='%s'\" % symbol)\n",
    "          ).nonempty())"
   ]
  },
  {
   "cell_type": "markdown",
   "metadata": {},
   "source": [
    "As expected we see more quotes than trades for this instrument. Note that you can also just filter directly by symbol index using between if you know it. For example:"
   ]
  },
  {
   "cell_type": "code",
   "execution_count": 8,
   "metadata": {
    "collapsed": false
   },
   "outputs": [
    {
     "data": {
      "text/html": [
       "<div style=\"max-height:1000px;max-width:1500px;overflow:auto;\">\n",
       "<table border=\"1\" class=\"dataframe\">\n",
       "  <thead>\n",
       "    <tr style=\"text-align: right;\">\n",
       "      <th></th>\n",
       "      <th>symbol</th>\n",
       "    </tr>\n",
       "    <tr>\n",
       "      <th>symbol_index</th>\n",
       "      <th></th>\n",
       "    </tr>\n",
       "  </thead>\n",
       "  <tbody>\n",
       "    <tr>\n",
       "      <th>615</th>\n",
       "      <td> BAM</td>\n",
       "    </tr>\n",
       "  </tbody>\n",
       "</table>\n",
       "</div>"
      ],
      "text/plain": [
       "             symbol\n",
       "symbol_index       \n",
       "615             BAM"
      ]
     },
     "execution_count": 8,
     "metadata": {},
     "output_type": "execute_result"
    }
   ],
   "source": [
    "tkr.filter(\"symbol='%s'\" % symbol).todataframe()"
   ]
  },
  {
   "cell_type": "code",
   "execution_count": 9,
   "metadata": {
    "collapsed": false
   },
   "outputs": [
    {
     "name": "stdout",
     "output_type": "stream",
     "text": [
      "[u'dummy', u'symbol_index', u'ms']\n"
     ]
    },
    {
     "data": {
      "text/plain": [
       "6337"
      ]
     },
     "execution_count": 9,
     "metadata": {},
     "output_type": "execute_result"
    }
   ],
   "source": [
    "print(trades.dim_names)\n",
    "trades.between('null', 615, 'null', 'null', 615, 'null').nonempty()"
   ]
  },
  {
   "cell_type": "markdown",
   "metadata": {},
   "source": [
    "### Computing minute bars\n",
    "\n",
    "Financial data arrive over irregular moments in time. We can use SciDB regrid functions to compute statistics like open price, min/max price, close price, etc., over regular time intervals (aka 'bars'). This example illustrates issuing a complicated low-level query to SciDB and parsing a DataFrame-like list of returned values.\n",
    "\n",
    "The trade data are now organized by symbol, time, and a dummy coordinate that separates collisions (due to, say exchanges) in a sparse array.\n",
    "The following query computes and store one-minute open/high/low/close bars from these data. We need some extra aggregates from the axial_aggregate plugin: load that:"
   ]
  },
  {
   "cell_type": "code",
   "execution_count": 10,
   "metadata": {
    "collapsed": true
   },
   "outputs": [],
   "source": [
    "minute_bars = trades.apply('timeprice', 'tuple(ms,price)')\n",
    "minute_bars = sdb.afl.regrid(minute_bars, 1000, 1, 60000,\n",
    "            'axial_first(timeprice) as open',\n",
    "            'max(price) as high',\n",
    "            'min(price) as low',\n",
    "            'axial_last(timeprice) as close'\n",
    "          )\n",
    "minute_bars = minute_bars.slice('dummy', 0)\\\n",
    "                            .eval()"
   ]
  },
  {
   "cell_type": "code",
   "execution_count": 11,
   "metadata": {
    "collapsed": false
   },
   "outputs": [
    {
     "data": {
      "text/html": [
       "<div style=\"max-height:1000px;max-width:1500px;overflow:auto;\">\n",
       "<table border=\"1\" class=\"dataframe\">\n",
       "  <thead>\n",
       "    <tr style=\"text-align: right;\">\n",
       "      <th></th>\n",
       "      <th></th>\n",
       "      <th>open</th>\n",
       "      <th>high</th>\n",
       "      <th>low</th>\n",
       "      <th>close</th>\n",
       "    </tr>\n",
       "    <tr>\n",
       "      <th>symbol_index</th>\n",
       "      <th>ms</th>\n",
       "      <th></th>\n",
       "      <th></th>\n",
       "      <th></th>\n",
       "      <th></th>\n",
       "    </tr>\n",
       "  </thead>\n",
       "  <tbody>\n",
       "    <tr>\n",
       "      <th rowspan=\"5\" valign=\"top\">0</th>\n",
       "      <th>570</th>\n",
       "      <td> 61.0</td>\n",
       "      <td> 63.500</td>\n",
       "      <td> 60.025</td>\n",
       "      <td> 62.8</td>\n",
       "    </tr>\n",
       "    <tr>\n",
       "      <th>571</th>\n",
       "      <td> 62.7</td>\n",
       "      <td> 63.500</td>\n",
       "      <td> 62.200</td>\n",
       "      <td> 63.5</td>\n",
       "    </tr>\n",
       "    <tr>\n",
       "      <th>572</th>\n",
       "      <td> 63.6</td>\n",
       "      <td> 64.899</td>\n",
       "      <td> 63.000</td>\n",
       "      <td> 63.6</td>\n",
       "    </tr>\n",
       "    <tr>\n",
       "      <th>573</th>\n",
       "      <td> 63.5</td>\n",
       "      <td> 64.500</td>\n",
       "      <td> 63.500</td>\n",
       "      <td> 64.3</td>\n",
       "    </tr>\n",
       "    <tr>\n",
       "      <th>574</th>\n",
       "      <td> 64.1</td>\n",
       "      <td> 64.400</td>\n",
       "      <td> 64.000</td>\n",
       "      <td> 64.4</td>\n",
       "    </tr>\n",
       "  </tbody>\n",
       "</table>\n",
       "</div>"
      ],
      "text/plain": [
       "                  open    high     low  close\n",
       "symbol_index ms                              \n",
       "0            570  61.0  63.500  60.025   62.8\n",
       "             571  62.7  63.500  62.200   63.5\n",
       "             572  63.6  64.899  63.000   63.6\n",
       "             573  63.5  64.500  63.500   64.3\n",
       "             574  64.1  64.400  64.000   64.4"
      ]
     },
     "execution_count": 11,
     "metadata": {},
     "output_type": "execute_result"
    }
   ],
   "source": [
    "minute_bars.todataframe().head()"
   ]
  },
  {
   "cell_type": "markdown",
   "metadata": {},
   "source": [
    "Let's pull out one of these minute bar time series for a particuar stock, CVS. We can consult the symbols array to find it's index directly."
   ]
  },
  {
   "cell_type": "code",
   "execution_count": 12,
   "metadata": {
    "collapsed": false
   },
   "outputs": [
    {
     "data": {
      "text/html": [
       "<div style=\"max-height:1000px;max-width:1500px;overflow:auto;\">\n",
       "<table border=\"1\" class=\"dataframe\">\n",
       "  <thead>\n",
       "    <tr style=\"text-align: right;\">\n",
       "      <th></th>\n",
       "      <th>symbol</th>\n",
       "    </tr>\n",
       "    <tr>\n",
       "      <th>symbol_index</th>\n",
       "      <th></th>\n",
       "    </tr>\n",
       "  </thead>\n",
       "  <tbody>\n",
       "    <tr>\n",
       "      <th>1612</th>\n",
       "      <td> CVS</td>\n",
       "    </tr>\n",
       "  </tbody>\n",
       "</table>\n",
       "</div>"
      ],
      "text/plain": [
       "             symbol\n",
       "symbol_index       \n",
       "1612            CVS"
      ]
     },
     "execution_count": 12,
     "metadata": {},
     "output_type": "execute_result"
    }
   ],
   "source": [
    "symbol = 'CVS'\n",
    "tkr[tkr == symbol].todataframe()"
   ]
  },
  {
   "cell_type": "markdown",
   "metadata": {},
   "source": [
    "So this says that symbol index 1612 corresponds to CVS.\n",
    "\n",
    "We can use SciDB's cross_join to avoid an explicit index lookup. We do need to use a repart to bring the symbols array schema into a conformable chunking scheme with the minute_bars array. Only the first 10 minutes of bars are shown below:"
   ]
  },
  {
   "cell_type": "code",
   "execution_count": 13,
   "metadata": {
    "collapsed": false
   },
   "outputs": [
    {
     "data": {
      "text/html": [
       "<div style=\"max-height:1000px;max-width:1500px;overflow:auto;\">\n",
       "<table border=\"1\" class=\"dataframe\">\n",
       "  <thead>\n",
       "    <tr style=\"text-align: right;\">\n",
       "      <th></th>\n",
       "      <th></th>\n",
       "      <th>open</th>\n",
       "      <th>high</th>\n",
       "      <th>low</th>\n",
       "      <th>close</th>\n",
       "      <th>symbol</th>\n",
       "    </tr>\n",
       "    <tr>\n",
       "      <th>symbol_index</th>\n",
       "      <th>ms</th>\n",
       "      <th></th>\n",
       "      <th></th>\n",
       "      <th></th>\n",
       "      <th></th>\n",
       "      <th></th>\n",
       "    </tr>\n",
       "  </thead>\n",
       "  <tbody>\n",
       "    <tr>\n",
       "      <th rowspan=\"5\" valign=\"top\">1612</th>\n",
       "      <th>513</th>\n",
       "      <td> 72.0</td>\n",
       "      <td> 72.0</td>\n",
       "      <td> 67.1</td>\n",
       "      <td> 67.1</td>\n",
       "      <td> CVS</td>\n",
       "    </tr>\n",
       "    <tr>\n",
       "      <th>560</th>\n",
       "      <td> 70.1</td>\n",
       "      <td> 70.1</td>\n",
       "      <td> 70.1</td>\n",
       "      <td> 70.1</td>\n",
       "      <td> CVS</td>\n",
       "    </tr>\n",
       "    <tr>\n",
       "      <th>561</th>\n",
       "      <td> 70.1</td>\n",
       "      <td> 70.2</td>\n",
       "      <td> 70.1</td>\n",
       "      <td> 70.2</td>\n",
       "      <td> CVS</td>\n",
       "    </tr>\n",
       "    <tr>\n",
       "      <th>563</th>\n",
       "      <td> 70.2</td>\n",
       "      <td> 70.2</td>\n",
       "      <td> 70.2</td>\n",
       "      <td> 70.2</td>\n",
       "      <td> CVS</td>\n",
       "    </tr>\n",
       "    <tr>\n",
       "      <th>565</th>\n",
       "      <td> 70.2</td>\n",
       "      <td> 70.2</td>\n",
       "      <td> 70.2</td>\n",
       "      <td> 70.2</td>\n",
       "      <td> CVS</td>\n",
       "    </tr>\n",
       "  </tbody>\n",
       "</table>\n",
       "</div>"
      ],
      "text/plain": [
       "                  open  high   low  close symbol\n",
       "symbol_index ms                                 \n",
       "1612         513  72.0  72.0  67.1   67.1    CVS\n",
       "             560  70.1  70.1  70.1   70.1    CVS\n",
       "             561  70.1  70.2  70.1   70.2    CVS\n",
       "             563  70.2  70.2  70.2   70.2    CVS\n",
       "             565  70.2  70.2  70.2   70.2    CVS"
      ]
     },
     "execution_count": 13,
     "metadata": {},
     "output_type": "execute_result"
    }
   ],
   "source": [
    "mb1 = sdb.merge(minute_bars, \n",
    "                tkr[tkr == symbol]).todataframe()\n",
    "mb1.head()"
   ]
  },
  {
   "cell_type": "markdown",
   "metadata": {},
   "source": [
    "Note! That 570 minutes = 9:30 AM."
   ]
  },
  {
   "cell_type": "code",
   "execution_count": 25,
   "metadata": {
    "collapsed": false
   },
   "outputs": [
    {
     "data": {
      "image/png": "[encoded data removed]",
      "text/plain": [
       "<matplotlib.figure.Figure at 0x7f3620983bd0>"
      ]
     },
     "metadata": {},
     "output_type": "display_data"
    }
   ],
   "source": [
    "%matplotlib inline\n",
    "import matplotlib.pyplot as plt\n",
    "from matplotlib.finance import candlestick_ohlc\n",
    "\n",
    "# Split the dimensions to get the minute co-ordinates\n",
    "l1, l2 = zip(*mb1.index)\n",
    "# unify into a nparray of tuples for use in candlestick graph\n",
    "q2 = zip(l2, mb1.open, mb1.high, mb1.low, mb1.close)\n",
    "\n",
    "fig, ax = plt.subplots()\n",
    "fig.subplots_adjust(bottom=0.2)\n",
    "fig.suptitle('Minute bars (OHLC): Symbol \\'CVS\\' ', fontsize=14, fontweight='bold')\n",
    "ax.set_xlabel('minutes')\n",
    "ax.set_ylabel('$')\n",
    "\n",
    "candlestick_ohlc(ax, q2[15:30], width=0.6)\n",
    "\n",
    "ax.autoscale_view()\n",
    "plt.setp(plt.gca().get_xticklabels(), rotation=45, horizontalalignment='right')\n",
    "\n",
    "plt.show()"
   ]
  },
  {
   "cell_type": "markdown",
   "metadata": {},
   "source": [
    "### Microsecond tick data example"
   ]
  },
  {
   "cell_type": "code",
   "execution_count": 28,
   "metadata": {
    "collapsed": false
   },
   "outputs": [
    {
     "data": {
      "text/plain": [
       "u\"<seq:int64 NULL DEFAULT null COMPRESSION 'zlib',sub:uint8 NULL DEFAULT null COMPRESSION 'zlib',exch:uint8 NULL DEFAULT null COMPRESSION 'zlib',nsec:int64 NULL DEFAULT null COMPRESSION 'zlib',line:string NULL DEFAULT null COMPRESSION 'zlib',flag:int64 NULL DEFAULT null COMPRESSION 'zlib',bid:float NULL DEFAULT null COMPRESSION 'zlib',ask:float NULL DEFAULT null COMPRESSION 'zlib',bidsz:int32 NULL DEFAULT null COMPRESSION 'zlib',asksz:int32 NULL DEFAULT null COMPRESSION 'zlib',condition:string NULL DEFAULT null COMPRESSION 'zlib'> [secid=0:*,100000,0,dt=19800101:21991231,1,0,tm=0:8640000000,1000000,0,synth_seq=0:9999,100000,0]\""
      ]
     },
     "execution_count": 28,
     "metadata": {},
     "output_type": "execute_result"
    }
   ],
   "source": [
    "option_quote = sdb.wrap_array('option_quote')\n",
    "option_quote.schema"
   ]
  },
  {
   "cell_type": "markdown",
   "metadata": {},
   "source": [
    "Use SciDB-Py SciDB Array Objects to store lazily evaluated AFL query"
   ]
  },
  {
   "cell_type": "code",
   "execution_count": 29,
   "metadata": {
    "collapsed": false
   },
   "outputs": [
    {
     "data": {
      "text/plain": [
       "u'between(option_quote,null,20151204,3060000000,0,null,20151204,5400000000,null)'"
      ]
     },
     "execution_count": 29,
     "metadata": {},
     "output_type": "execute_result"
    }
   ],
   "source": [
    " starttm = np.int64(8.5*3600*100000)\n",
    " endtm   = np.int64(15*3600*100000)\n",
    " startdt = enddt = datetime.date(2015, 12, 4)\n",
    "    \n",
    "option_quote_between = afl.between(option_quote, 'null' ,int(startdt.strftime('%Y%m%d')),starttm ,0, 'null', int(enddt.strftime('%Y%m%d')), endtm, 'null')\n",
    "option_quote_between.query"
   ]
  },
  {
   "cell_type": "markdown",
   "metadata": {},
   "source": [
    "Return the count of the \"option_quote\" array to a NumPy ndarray"
   ]
  },
  {
   "cell_type": "code",
   "execution_count": 32,
   "metadata": {
    "collapsed": false,
    "scrolled": true
   },
   "outputs": [
    {
     "name": "stdout",
     "output_type": "stream",
     "text": [
      "11245389864\n"
     ]
    }
   ],
   "source": [
    "print(option_quote_between.nonempty())"
   ]
  },
  {
   "cell_type": "markdown",
   "metadata": {},
   "source": [
    "### Simple aggregation example"
   ]
  },
  {
   "cell_type": "code",
   "execution_count": 11,
   "metadata": {
    "collapsed": false
   },
   "outputs": [
    {
     "data": {
      "text/plain": [
       "array([ 4.])"
      ]
     },
     "execution_count": 11,
     "metadata": {},
     "output_type": "execute_result"
    }
   ],
   "source": [
    " option_quote_between.aggregate('bidsz_max':'max(bidsz)').toarray()"
   ]
  },
  {
   "cell_type": "markdown",
   "metadata": {},
   "source": [
    "### Cross_join example\n",
    "\n",
    "The below example demonstrates the use of cross_join and other afl operators to join a time of interest with an array that contains the national best bid and offer"
   ]
  },
  {
   "cell_type": "code",
   "execution_count": null,
   "metadata": {
    "collapsed": true
   },
   "outputs": [],
   "source": [
    "    minsecid = 100000\n",
    "    maxsecid = 1500000\n",
    "    \n",
    "    starttm = np.int64(8.5*3600*100000)\n",
    "    endtm   = np.int64(15*3600*100000)\n",
    "    \n",
    "    startdt = enddt = datetime.date(2015, 12, 4)\n",
    "    \n",
    "    start = time.time()\n",
    "    \n",
    "    fill = sdb.wrap_array('fill')\n",
    "    redim = afl.redimension(fill, '<pre1m:int64, value1:int64, value2:int64> [secid=0:*,100000,0, interval_id=0:*,10000,0]').eval()\n",
    "    \n",
    "    option_nbbo  = sdb.wrap_array('nbbo_option_data') \n",
    "    between_nbbo = afl.between(option_nbbo,minsecid,int(startdt.strftime('%Y%m%d')),starttm,0,maxsecid,int(enddt.strftime('%Y%m%d')),endtm,10000)\n",
    "    \n",
    "    pre1mprj     = afl.project(redim,'pre1m')\n",
    "    joinarr      = afl.cross_join(between_nbbo, pre1mprj,'secid','secid').filter('tm < pre1m').apply('tm_attribute','tm')\n",
    "    min_times    = afl.redimension(joinarr, '<lower_bound:int64 null> [secid=0:*,10000,0, interval_id=0:*,10000,0],max(tm_attribute) as lower_bound').eval()\n",
    "     \n",
    "    dataframe = min_times.todataframe()"
   ]
  },
  {
   "cell_type": "markdown",
   "metadata": {
    "collapsed": true
   },
   "source": [
    "### As Of Join example\n",
    "\n",
    "The asof operator joins trade data with quote data. At time points where quote data is not available, the last known value is looked up and filled in. This is sometimes also called a 'last value carry forward' join or 'piecewise constant interpolation join'.\n",
    "The syntax is:\n",
    "asof(A, B [, aggrDim [, missingCode]])\n",
    "where the inputs are:\n",
    "A & B: two arrays that have the same dimensionality;\n",
    "aggrDim: the dimension in A along which to find last_value. Default is the last dimension.\n",
    "missingCode: the missing code to use, when an A record cannot be found. Default is 0.\n",
    "Here is an example that joins trades and quotes for 'BAM'. We use the fact that we know the symbol index for BAM is 615 from the last example. In this example, we only choose the values with dummy dimension of 0 (see comments below)."
   ]
  },
  {
   "cell_type": "code",
   "execution_count": 4,
   "metadata": {
    "collapsed": false
   },
   "outputs": [
    {
     "data": {
      "text/html": [
       "<div style=\"max-height:1000px;max-width:1500px;overflow:auto;\">\n",
       "<table border=\"1\" class=\"dataframe\">\n",
       "  <thead>\n",
       "    <tr style=\"text-align: right;\">\n",
       "      <th></th>\n",
       "      <th>symbol</th>\n",
       "    </tr>\n",
       "    <tr>\n",
       "      <th>symbol_index</th>\n",
       "      <th></th>\n",
       "    </tr>\n",
       "  </thead>\n",
       "  <tbody>\n",
       "    <tr>\n",
       "      <th>615</th>\n",
       "      <td> BAM</td>\n",
       "    </tr>\n",
       "  </tbody>\n",
       "</table>\n",
       "</div>"
      ],
      "text/plain": [
       "             symbol\n",
       "symbol_index       \n",
       "615             BAM"
      ]
     },
     "execution_count": 4,
     "metadata": {},
     "output_type": "execute_result"
    }
   ],
   "source": [
    "symbol = 'BAM'\n",
    "tkr[tkr == symbol].todataframe()"
   ]
  },
  {
   "cell_type": "markdown",
   "metadata": {},
   "source": [
    "Next run some counts for the data for this symbol"
   ]
  },
  {
   "cell_type": "code",
   "execution_count": 5,
   "metadata": {
    "collapsed": false
   },
   "outputs": [
    {
     "name": "stdout",
     "output_type": "stream",
     "text": [
      "Dimensions of trades and quotes arrays:\n",
      "[u'dummy', u'symbol_index', u'ms']\n",
      "\n",
      "# of quotes for symbol = BAM\n",
      "33447\n",
      "\n",
      "# of trades for symbol = BAM\n",
      "4362\n"
     ]
    }
   ],
   "source": [
    "print('Dimensions of trades and quotes arrays:')\n",
    "print(trades.dim_names)\n",
    "print('\\n# of quotes for symbol = %s' % symbol)\n",
    "q1 = quotes.between('null', 615, 'null', 0, 615, 'null')\n",
    "print(q1.nonempty())\n",
    "print('\\n# of trades for symbol = %s' % symbol)\n",
    "t1 = trades.between('null', 615, 'null', 0, 615, 'null')\n",
    "print(t1.nonempty())"
   ]
  },
  {
   "cell_type": "markdown",
   "metadata": {},
   "source": [
    "\n",
    "Now note that the dimensions of the quotes and trades arrays did not have identical chunking in the first place."
   ]
  },
  {
   "cell_type": "code",
   "execution_count": null,
   "metadata": {
    "collapsed": true
   },
   "outputs": [],
   "source": [
    "from re import search\n",
    "print(search('\\[.*\\]', q1.schema).group(0))\n",
    "print(search('\\[.*\\]', t1.schema).group(0))"
   ]
  },
  {
   "cell_type": "markdown",
   "metadata": {},
   "source": [
    "[dummy=0:999,1000,0,symbol_index=0:*,10,0,ms=0:86399999,86400000,0]\n",
    "\n",
    "[dummy=0:999,1000,0,symbol_index=0:*,100,0,ms=0:86399999,86400000,0]\n",
    "\n",
    "We resolve this by redimension-ing the (smaller) trades subarray for selected symbol to the same dimension schema as the quotes subarray"
   ]
  },
  {
   "cell_type": "code",
   "execution_count": 6,
   "metadata": {
    "collapsed": false
   },
   "outputs": [],
   "source": [
    "t2 = t1.redimension(\"<price:double NULL DEFAULT null,volume:int64 NULL DEFAULT null,\\\n",
    "                    sequence_number:int64 NULL DEFAULT null,condition:string NULL DEFAULT null,\\\n",
    "                    exchange:string NULL DEFAULT null> \\\n",
    "                    [dummy=0:999,1000,0,symbol_index=0:*,10,0,ms=0:86399999,86400000,0]\")"
   ]
  },
  {
   "cell_type": "markdown",
   "metadata": {},
   "source": [
    "Next we run the asof join and make some simple checks:"
   ]
  },
  {
   "cell_type": "code",
   "execution_count": 7,
   "metadata": {
    "collapsed": false,
    "scrolled": true
   },
   "outputs": [
    {
     "name": "stdout",
     "output_type": "stream",
     "text": [
      "The head() of the trades array\n"
     ]
    },
    {
     "data": {
      "text/html": [
       "<div style=\"max-height:1000px;max-width:1500px;overflow:auto;\">\n",
       "<table border=\"1\" class=\"dataframe\">\n",
       "  <thead>\n",
       "    <tr style=\"text-align: right;\">\n",
       "      <th></th>\n",
       "      <th></th>\n",
       "      <th></th>\n",
       "      <th>price</th>\n",
       "      <th>volume</th>\n",
       "      <th>sequence_number</th>\n",
       "      <th>condition</th>\n",
       "      <th>exchange</th>\n",
       "    </tr>\n",
       "    <tr>\n",
       "      <th>dummy</th>\n",
       "      <th>symbol_index</th>\n",
       "      <th>ms</th>\n",
       "      <th></th>\n",
       "      <th></th>\n",
       "      <th></th>\n",
       "      <th></th>\n",
       "      <th></th>\n",
       "    </tr>\n",
       "  </thead>\n",
       "  <tbody>\n",
       "    <tr>\n",
       "      <th rowspan=\"5\" valign=\"top\">0</th>\n",
       "      <th rowspan=\"5\" valign=\"top\">615</th>\n",
       "      <th>34185171</th>\n",
       "      <td> 38.9</td>\n",
       "      <td>   91</td>\n",
       "      <td> 3309</td>\n",
       "      <td>   TI</td>\n",
       "      <td> P</td>\n",
       "    </tr>\n",
       "    <tr>\n",
       "      <th>34185172</th>\n",
       "      <td> 39.0</td>\n",
       "      <td>  100</td>\n",
       "      <td> 3310</td>\n",
       "      <td>  FT </td>\n",
       "      <td> T</td>\n",
       "    </tr>\n",
       "    <tr>\n",
       "      <th>34185173</th>\n",
       "      <td> 38.8</td>\n",
       "      <td>   91</td>\n",
       "      <td> 3312</td>\n",
       "      <td>   TI</td>\n",
       "      <td> T</td>\n",
       "    </tr>\n",
       "    <tr>\n",
       "      <th>34185950</th>\n",
       "      <td> 38.8</td>\n",
       "      <td>    9</td>\n",
       "      <td> 3313</td>\n",
       "      <td>   TI</td>\n",
       "      <td> T</td>\n",
       "    </tr>\n",
       "    <tr>\n",
       "      <th>34200381</th>\n",
       "      <td> 39.8</td>\n",
       "      <td> 9761</td>\n",
       "      <td> 3695</td>\n",
       "      <td> O   </td>\n",
       "      <td> N</td>\n",
       "    </tr>\n",
       "  </tbody>\n",
       "</table>\n",
       "</div>"
      ],
      "text/plain": [
       "                             price  volume  sequence_number condition exchange\n",
       "dummy symbol_index ms                                                         \n",
       "0     615          34185171   38.9      91             3309        TI        P\n",
       "                   34185172   39.0     100             3310       FT         T\n",
       "                   34185173   38.8      91             3312        TI        T\n",
       "                   34185950   38.8       9             3313        TI        T\n",
       "                   34200381   39.8    9761             3695      O           N"
      ]
     },
     "execution_count": 7,
     "metadata": {},
     "output_type": "execute_result"
    }
   ],
   "source": [
    "asof1 = q1.asof(t2)\n",
    "print('The head() of the trades array')\n",
    "t1.todataframe().head()"
   ]
  },
  {
   "cell_type": "markdown",
   "metadata": {},
   "source": [
    "The head() of the quotes array"
   ]
  },
  {
   "cell_type": "code",
   "execution_count": 16,
   "metadata": {
    "collapsed": false
   },
   "outputs": [
    {
     "name": "stdout",
     "output_type": "stream",
     "text": [
      "The head() of the quotes array\n"
     ]
    },
    {
     "data": {
      "text/html": [
       "<div style=\"max-height:1000px;max-width:1500px;overflow:auto;\">\n",
       "<table border=\"1\" class=\"dataframe\">\n",
       "  <thead>\n",
       "    <tr style=\"text-align: right;\">\n",
       "      <th></th>\n",
       "      <th></th>\n",
       "      <th></th>\n",
       "      <th>ask_price</th>\n",
       "      <th>bid_price</th>\n",
       "    </tr>\n",
       "    <tr>\n",
       "      <th>dummy</th>\n",
       "      <th>symbol_index</th>\n",
       "      <th>ms</th>\n",
       "      <th></th>\n",
       "      <th></th>\n",
       "    </tr>\n",
       "  </thead>\n",
       "  <tbody>\n",
       "    <tr>\n",
       "      <th rowspan=\"10\" valign=\"top\">0</th>\n",
       "      <th rowspan=\"10\" valign=\"top\">615</th>\n",
       "      <th>25269846</th>\n",
       "      <td>  0.0</td>\n",
       "      <td> 36.6</td>\n",
       "    </tr>\n",
       "    <tr>\n",
       "      <th>25269850</th>\n",
       "      <td>  0.0</td>\n",
       "      <td>  0.0</td>\n",
       "    </tr>\n",
       "    <tr>\n",
       "      <th>28800370</th>\n",
       "      <td> 51.5</td>\n",
       "      <td> 42.6</td>\n",
       "    </tr>\n",
       "    <tr>\n",
       "      <th>34050049</th>\n",
       "      <td>  0.0</td>\n",
       "      <td> 37.1</td>\n",
       "    </tr>\n",
       "    <tr>\n",
       "      <th>34050060</th>\n",
       "      <td> 39.4</td>\n",
       "      <td>  0.0</td>\n",
       "    </tr>\n",
       "    <tr>\n",
       "      <th>34050068</th>\n",
       "      <td> 46.0</td>\n",
       "      <td> 38.0</td>\n",
       "    </tr>\n",
       "    <tr>\n",
       "      <th>34050074</th>\n",
       "      <td> 45.2</td>\n",
       "      <td> 40.6</td>\n",
       "    </tr>\n",
       "    <tr>\n",
       "      <th>34080013</th>\n",
       "      <td> 46.6</td>\n",
       "      <td> 28.1</td>\n",
       "    </tr>\n",
       "    <tr>\n",
       "      <th>34183007</th>\n",
       "      <td> 41.6</td>\n",
       "      <td> 37.8</td>\n",
       "    </tr>\n",
       "    <tr>\n",
       "      <th>34185948</th>\n",
       "      <td> 42.0</td>\n",
       "      <td> 37.8</td>\n",
       "    </tr>\n",
       "  </tbody>\n",
       "</table>\n",
       "</div>"
      ],
      "text/plain": [
       "                             ask_price  bid_price\n",
       "dummy symbol_index ms                            \n",
       "0     615          25269846        0.0       36.6\n",
       "                   25269850        0.0        0.0\n",
       "                   28800370       51.5       42.6\n",
       "                   34050049        0.0       37.1\n",
       "                   34050060       39.4        0.0\n",
       "                   34050068       46.0       38.0\n",
       "                   34050074       45.2       40.6\n",
       "                   34080013       46.6       28.1\n",
       "                   34183007       41.6       37.8\n",
       "                   34185948       42.0       37.8"
      ]
     },
     "execution_count": 16,
     "metadata": {},
     "output_type": "execute_result"
    }
   ],
   "source": [
    "print('The head() of the quotes array')\n",
    "qhead = q1.todataframe().head(10)\n",
    "qhead[['ask_price','bid_price']]"
   ]
  },
  {
   "cell_type": "code",
   "execution_count": 9,
   "metadata": {
    "collapsed": false
   },
   "outputs": [
    {
     "name": "stdout",
     "output_type": "stream",
     "text": [
      "\n",
      "# of elements in the joined result:\n",
      "4362\n"
     ]
    },
    {
     "data": {
      "text/html": [
       "<div style=\"max-height:1000px;max-width:1500px;overflow:auto;\">\n",
       "<table border=\"1\" class=\"dataframe\">\n",
       "  <thead>\n",
       "    <tr style=\"text-align: right;\">\n",
       "      <th></th>\n",
       "      <th></th>\n",
       "      <th></th>\n",
       "      <th>ask_price</th>\n",
       "      <th>ask_size</th>\n",
       "      <th>price</th>\n",
       "      <th>volume</th>\n",
       "    </tr>\n",
       "    <tr>\n",
       "      <th>dummy</th>\n",
       "      <th>symbol_index</th>\n",
       "      <th>ms</th>\n",
       "      <th></th>\n",
       "      <th></th>\n",
       "      <th></th>\n",
       "      <th></th>\n",
       "    </tr>\n",
       "  </thead>\n",
       "  <tbody>\n",
       "    <tr>\n",
       "      <th rowspan=\"5\" valign=\"top\">0</th>\n",
       "      <th rowspan=\"5\" valign=\"top\">615</th>\n",
       "      <th>34185171</th>\n",
       "      <td> 41.6</td>\n",
       "      <td> 6</td>\n",
       "      <td> 38.9</td>\n",
       "      <td>   91</td>\n",
       "    </tr>\n",
       "    <tr>\n",
       "      <th>34185172</th>\n",
       "      <td> 41.6</td>\n",
       "      <td> 6</td>\n",
       "      <td> 39.0</td>\n",
       "      <td>  100</td>\n",
       "    </tr>\n",
       "    <tr>\n",
       "      <th>34185173</th>\n",
       "      <td> 41.6</td>\n",
       "      <td> 6</td>\n",
       "      <td> 38.8</td>\n",
       "      <td>   91</td>\n",
       "    </tr>\n",
       "    <tr>\n",
       "      <th>34185950</th>\n",
       "      <td> 42.0</td>\n",
       "      <td> 1</td>\n",
       "      <td> 38.8</td>\n",
       "      <td>    9</td>\n",
       "    </tr>\n",
       "    <tr>\n",
       "      <th>34200381</th>\n",
       "      <td> 40.1</td>\n",
       "      <td> 1</td>\n",
       "      <td> 39.8</td>\n",
       "      <td> 9761</td>\n",
       "    </tr>\n",
       "  </tbody>\n",
       "</table>\n",
       "</div>"
      ],
      "text/plain": [
       "                             ask_price  ask_size  price  volume\n",
       "dummy symbol_index ms                                          \n",
       "0     615          34185171       41.6         6   38.9      91\n",
       "                   34185172       41.6         6   39.0     100\n",
       "                   34185173       41.6         6   38.8      91\n",
       "                   34185950       42.0         1   38.8       9\n",
       "                   34200381       40.1         1   39.8    9761"
      ]
     },
     "execution_count": 9,
     "metadata": {},
     "output_type": "execute_result"
    }
   ],
   "source": [
    "print('\\n# of elements in the joined result:')\n",
    "print(asof1.nonempty())\n",
    "foo = asof1.todataframe().head()\n",
    "foo[['ask_price','ask_size','price','volume']]"
   ]
  },
  {
   "cell_type": "markdown",
   "metadata": {},
   "source": [
    "\n",
    "$$\\,$$\n",
    "\n",
    "$$\\,$$\n",
    "\n",
    "\n",
    "References again\n",
    "----\n",
    "* https://github.com/Paradigm4/TAQ/blob/master/TAQ_ipynb.ipynb\n",
    "* https://www.github.com/paradigm4/SciDB-py\n",
    "* https://www.github.com/paradigm4/\n",
    "* http://www.paradigm4.com\n",
    "\n",
    "Thanks!\n",
    "===="
   ]
  },
  {
   "cell_type": "code",
   "execution_count": null,
   "metadata": {
    "collapsed": true
   },
   "outputs": [],
   "source": []
  }
 ],
 "metadata": {
  "kernelspec": {
   "display_name": "Python 2",
   "language": "python",
   "name": "python2"
  },
  "language_info": {
   "codemirror_mode": {
    "name": "ipython",
    "version": 2
   },
   "file_extension": ".py",
   "mimetype": "text/x-python",
   "name": "python",
   "nbconvert_exporter": "python",
   "pygments_lexer": "ipython2",
   "version": "2.7.10"
  }
 },
 "nbformat": 4,
 "nbformat_minor": 0
}
